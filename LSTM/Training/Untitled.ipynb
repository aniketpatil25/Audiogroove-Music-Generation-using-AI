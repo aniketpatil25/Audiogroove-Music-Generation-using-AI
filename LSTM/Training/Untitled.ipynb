{
 "cells": [
  {
   "cell_type": "code",
   "execution_count": null,
   "id": "b0b451bf",
   "metadata": {},
   "outputs": [],
   "source": [
    "import torch\n",
    "from your_model_module import YourModelClass  # Import your model class\n",
    "\n",
    "# Load the checkpoint\n",
    "checkpoint_path = '/path/to/your/checkpoint.tar'\n",
    "checkpoint = torch.load(checkpoint_path)\n",
    "\n",
    "# Instantiate the model\n",
    "model = YourModelClass()\n",
    "\n",
    "# Load the model state\n",
    "model.load_state_dict(checkpoint['model_state_dict'])\n",
    "\n",
    "# Ensure the model is in evaluation mode\n",
    "model.eval()\n"
   ]
  }
 ],
 "metadata": {
  "kernelspec": {
   "display_name": "Python 3 (ipykernel)",
   "language": "python",
   "name": "python3"
  },
  "language_info": {
   "codemirror_mode": {
    "name": "ipython",
    "version": 3
   },
   "file_extension": ".py",
   "mimetype": "text/x-python",
   "name": "python",
   "nbconvert_exporter": "python",
   "pygments_lexer": "ipython3",
   "version": "3.11.5"
  }
 },
 "nbformat": 4,
 "nbformat_minor": 5
}
