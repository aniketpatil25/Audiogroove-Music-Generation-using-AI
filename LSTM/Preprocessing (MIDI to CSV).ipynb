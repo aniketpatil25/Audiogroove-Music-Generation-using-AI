{
 "cells": [
  {
   "cell_type": "markdown",
   "id": "e866373b",
   "metadata": {},
   "source": [
    "## Import the Necessary Libraries"
   ]
  },
  {
   "cell_type": "code",
   "execution_count": 1,
   "id": "1b9557ac",
   "metadata": {},
   "outputs": [],
   "source": [
    "import numpy as np\n",
    "from music21 import *\n",
    "from collections import Counter\n",
    "import os \n",
    "import pandas as pd\n",
    "from sklearn.model_selection import train_test_split"
   ]
  },
  {
   "cell_type": "markdown",
   "id": "566df23d",
   "metadata": {},
   "source": [
    "## Initialize the Conversion of MIDI data into CSV data"
   ]
  },
  {
   "cell_type": "code",
   "execution_count": 2,
   "id": "1705063b",
   "metadata": {},
   "outputs": [],
   "source": [
    "def read_midi(file):\n",
    "    print(\"Loading Music File:\", file)\n",
    "    notes = []\n",
    "    midi = converter.parse(file)\n",
    "    s2 = instrument.partitionByInstrument(midi)\n",
    "\n",
    "    for part in s2.parts:\n",
    "        if 'Piano' in str(part): \n",
    "            notes_to_parse = part.recurse() \n",
    "            for element in notes_to_parse:\n",
    "                if isinstance(element, note.Note):\n",
    "                    notes.append(str(element.pitch))\n",
    "                elif isinstance(element, chord.Chord):\n",
    "                    notes.append('.'.join(str(n) for n in element.normalOrder))\n",
    "    return np.array(notes)\n",
    "\n",
    "def get_sequences(notes_array, timesteps=32, future_steps=8):\n",
    "    notes_ = [element for note_ in notes_array for element in note_]\n",
    "    freq = dict(Counter(notes_))\n",
    "    frequent_notes = [note_ for note_, count in freq.items() if count >= 50]\n",
    "\n",
    "    new_music = []\n",
    "    for notes in notes_array:\n",
    "        temp = [note_ for note_ in notes if note_ in frequent_notes]\n",
    "        new_music.append(temp)\n",
    "\n",
    "    new_music = np.array(new_music, dtype=object)\n",
    "\n",
    "    x, y = [], []\n",
    "    for note_ in new_music:\n",
    "        for i in range(0, len(note_) - (timesteps + future_steps), 1):\n",
    "            input_ = note_[i:i + timesteps]\n",
    "            output = note_[i + 1 + timesteps:i + 1 + timesteps + future_steps]\n",
    "            x.append(input_)\n",
    "            y.append(output)\n",
    "            \n",
    "    x = np.array(x)\n",
    "    y = np.array(y)\n",
    "\n",
    "    unique_notes = list(set(x.ravel()))\n",
    "    note_to_int = dict((note_, number) for number, note_ in enumerate(unique_notes))\n",
    "    x_seq = [[note_to_int[j] for j in i] for i in x]\n",
    "    y_seq = [[note_to_int[j] for j in i] for i in y]\n",
    "\n",
    "    return np.array(x_seq), np.array(y_seq), unique_notes, note_to_int"
   ]
  },
  {
   "cell_type": "markdown",
   "id": "bac60370",
   "metadata": {},
   "source": [
    "## Start the Conversion Process"
   ]
  },
  {
   "cell_type": "code",
   "execution_count": 3,
   "id": "fe87db93",
   "metadata": {},
   "outputs": [
    {
     "name": "stdout",
     "output_type": "stream",
     "text": [
      "Loading Music File: /home/admin1/Desktop/LSTM/schubert/schubert_D935_2.mid\n"
     ]
    },
    {
     "name": "stderr",
     "output_type": "stream",
     "text": [
      "/home/admin1/anaconda3/lib/python3.11/site-packages/music21/midi/translate.py:874: TranslateWarning: Unable to determine instrument from <music21.midi.MidiEvent SEQUENCE_TRACK_NAME, track=5, channel=None, data=b'Copyright \\xa9 2007 by Bernd Krueger'>; getting generic Instrument\n",
      "  warnings.warn(\n"
     ]
    },
    {
     "name": "stdout",
     "output_type": "stream",
     "text": [
      "Loading Music File: /home/admin1/Desktop/LSTM/schubert/schuim-3.mid\n",
      "Loading Music File: /home/admin1/Desktop/LSTM/schubert/schubert_D850_1.mid\n"
     ]
    },
    {
     "name": "stderr",
     "output_type": "stream",
     "text": [
      "/home/admin1/anaconda3/lib/python3.11/site-packages/music21/midi/translate.py:874: TranslateWarning: Unable to determine instrument from <music21.midi.MidiEvent SEQUENCE_TRACK_NAME, track=5, channel=None, data=b'Copyright \\xa9 2009 by Bernd Krueger'>; getting generic Instrument\n",
      "  warnings.warn(\n"
     ]
    },
    {
     "name": "stdout",
     "output_type": "stream",
     "text": [
      "Loading Music File: /home/admin1/Desktop/LSTM/schubert/schuim-4.mid\n"
     ]
    },
    {
     "name": "stderr",
     "output_type": "stream",
     "text": [
      "/home/admin1/anaconda3/lib/python3.11/site-packages/music21/midi/translate.py:874: TranslateWarning: Unable to determine instrument from <music21.midi.MidiEvent SEQUENCE_TRACK_NAME, track=4, channel=None, data=b'Copyright \\xa9 1996 by Bernd Krueger'>; getting generic Instrument\n",
      "  warnings.warn(\n"
     ]
    },
    {
     "name": "stdout",
     "output_type": "stream",
     "text": [
      "Loading Music File: /home/admin1/Desktop/LSTM/schubert/schuim-2.mid\n"
     ]
    },
    {
     "name": "stderr",
     "output_type": "stream",
     "text": [
      "/home/admin1/anaconda3/lib/python3.11/site-packages/music21/midi/translate.py:874: TranslateWarning: Unable to determine instrument from <music21.midi.MidiEvent SEQUENCE_TRACK_NAME, track=4, channel=None, data=b'Copyright \\xa9 1997 by Bernd Krueger'>; getting generic Instrument\n",
      "  warnings.warn(\n"
     ]
    },
    {
     "name": "stdout",
     "output_type": "stream",
     "text": [
      "Loading Music File: /home/admin1/Desktop/LSTM/schubert/schubert_D850_2.mid\n"
     ]
    },
    {
     "name": "stderr",
     "output_type": "stream",
     "text": [
      "/home/admin1/anaconda3/lib/python3.11/site-packages/music21/midi/translate.py:874: TranslateWarning: Unable to determine instrument from <music21.midi.MidiEvent SEQUENCE_TRACK_NAME, track=5, channel=None, data=b'Copyright \\xa9 2010 by Bernd Krueger'>; getting generic Instrument\n",
      "  warnings.warn(\n"
     ]
    },
    {
     "name": "stdout",
     "output_type": "stream",
     "text": [
      "Loading Music File: /home/admin1/Desktop/LSTM/schubert/schu_143_3.mid\n"
     ]
    },
    {
     "name": "stderr",
     "output_type": "stream",
     "text": [
      "/home/admin1/anaconda3/lib/python3.11/site-packages/music21/midi/translate.py:874: TranslateWarning: Unable to determine instrument from <music21.midi.MidiEvent SEQUENCE_TRACK_NAME, track=4, channel=None, data=b'Copyright \\xa9 1999 by Bernd Kr\\xfcger'>; getting generic Instrument\n",
      "  warnings.warn(\n"
     ]
    },
    {
     "name": "stdout",
     "output_type": "stream",
     "text": [
      "Loading Music File: /home/admin1/Desktop/LSTM/schubert/schub_d960_2.mid\n"
     ]
    },
    {
     "name": "stderr",
     "output_type": "stream",
     "text": [
      "/home/admin1/anaconda3/lib/python3.11/site-packages/music21/midi/translate.py:874: TranslateWarning: Unable to determine instrument from <music21.midi.MidiEvent SEQUENCE_TRACK_NAME, track=4, channel=None, data=b'Copyright \\xa9 2002 by Bernd Kr\\xfcger'>; getting generic Instrument\n",
      "  warnings.warn(\n"
     ]
    },
    {
     "name": "stdout",
     "output_type": "stream",
     "text": [
      "Loading Music File: /home/admin1/Desktop/LSTM/schubert/schub_d960_1.mid\n"
     ]
    },
    {
     "name": "stderr",
     "output_type": "stream",
     "text": [
      "/home/admin1/anaconda3/lib/python3.11/site-packages/music21/midi/translate.py:874: TranslateWarning: Unable to determine instrument from <music21.midi.MidiEvent SEQUENCE_TRACK_NAME, track=5, channel=None, data=b'Copyright \\xa9 2002 by Bernd Kr\\xfcger'>; getting generic Instrument\n",
      "  warnings.warn(\n"
     ]
    },
    {
     "name": "stdout",
     "output_type": "stream",
     "text": [
      "Loading Music File: /home/admin1/Desktop/LSTM/schubert/schumm-4.mid\n",
      "Loading Music File: /home/admin1/Desktop/LSTM/schubert/schu_143_1.mid\n"
     ]
    },
    {
     "name": "stderr",
     "output_type": "stream",
     "text": [
      "/home/admin1/anaconda3/lib/python3.11/site-packages/music21/midi/translate.py:874: TranslateWarning: Unable to determine instrument from <music21.midi.MidiEvent SEQUENCE_TRACK_NAME, track=4, channel=None, data=b'Copyright \\xa9 2004 by Bernd Kr\\xfcger'>; getting generic Instrument\n",
      "  warnings.warn(\n"
     ]
    },
    {
     "name": "stdout",
     "output_type": "stream",
     "text": [
      "Loading Music File: /home/admin1/Desktop/LSTM/schubert/schumm-5.mid\n",
      "Loading Music File: /home/admin1/Desktop/LSTM/schubert/schub_d960_3.mid\n",
      "Loading Music File: /home/admin1/Desktop/LSTM/schubert/schubert_D850_3.mid\n",
      "Loading Music File: /home/admin1/Desktop/LSTM/schubert/schubert_D850_4.mid\n",
      "Loading Music File: /home/admin1/Desktop/LSTM/schubert/schub_d760_4.mid\n",
      "Loading Music File: /home/admin1/Desktop/LSTM/schubert/schub_d760_2.mid\n",
      "Loading Music File: /home/admin1/Desktop/LSTM/schubert/schub_d760_1.mid\n",
      "Loading Music File: /home/admin1/Desktop/LSTM/schubert/schumm-1.mid\n"
     ]
    },
    {
     "name": "stderr",
     "output_type": "stream",
     "text": [
      "/home/admin1/anaconda3/lib/python3.11/site-packages/music21/midi/translate.py:874: TranslateWarning: Unable to determine instrument from <music21.midi.MidiEvent SEQUENCE_TRACK_NAME, track=4, channel=None, data=b'Copyright \\xa9 1999 by Bernd Krueger'>; getting generic Instrument\n",
      "  warnings.warn(\n"
     ]
    },
    {
     "name": "stdout",
     "output_type": "stream",
     "text": [
      "Loading Music File: /home/admin1/Desktop/LSTM/schubert/schumm-2.mid\n",
      "Loading Music File: /home/admin1/Desktop/LSTM/schubert/schub_d760_3.mid\n",
      "Loading Music File: /home/admin1/Desktop/LSTM/schubert/schub_d960_4.mid\n",
      "Loading Music File: /home/admin1/Desktop/LSTM/schubert/schubert_D935_1.mid\n",
      "Loading Music File: /home/admin1/Desktop/LSTM/schubert/schubert_D935_4.mid\n",
      "Loading Music File: /home/admin1/Desktop/LSTM/schubert/schumm-3.mid\n",
      "Loading Music File: /home/admin1/Desktop/LSTM/schubert/schubert_D935_3.mid\n",
      "Loading Music File: /home/admin1/Desktop/LSTM/schubert/schu_143_2.mid\n",
      "Loading Music File: /home/admin1/Desktop/LSTM/schubert/schumm-6.mid\n",
      "Loading Music File: /home/admin1/Desktop/LSTM/schubert/schuim-1.mid\n"
     ]
    }
   ],
   "source": [
    "train_size = 0.7\n",
    "validation_size = 0.2 \n",
    "test_size = 0.1\n",
    "path = '/home/admin1/Desktop/LSTM/schubert/'\n",
    "\n",
    "files = [i for i in os.listdir(path) if i.endswith(\".mid\")]\n",
    "notes_array = np.array([read_midi(os.path.join(path, i)) for i in files], dtype=object)\n",
    "\n",
    "x_seq, y_seq, unique_notes, note_to_int = get_sequences(notes_array, timesteps=32, future_steps=8)\n",
    "\n",
    "X_train, X_rem, y_train, y_rem = train_test_split(x_seq, y_seq, train_size=train_size)\n",
    "X_valid, X_test, y_valid, y_test = train_test_split(X_rem, y_rem, test_size=float(test_size) / float(validation_size + test_size))\n",
    "\n",
    "train_dataset = [{'x_tr': X_train[i], 'future': y_train[i]} for i in range(len(X_train))]\n",
    "validation_dataset = [{'x_val': X_valid[i], 'future': y_valid[i]} for i in range(len(X_valid))]\n",
    "test_dataset = [{'x_test': X_test[i], 'future': y_test[i]} for i in range(len(X_test))]\n",
    "\n",
    "df_tr = pd.DataFrame(train_dataset)\n",
    "df_val = pd.DataFrame(validation_dataset)\n",
    "df_test = pd.DataFrame(test_dataset)\n",
    "df_notes = pd.DataFrame(unique_notes)\n",
    "\n",
    "# Specify the path for the folder\n",
    "folder_path = '/home/admin1/Desktop/LSTM/csv_dataset/'\n",
    "\n",
    "# Create the folder if it doesn't exist\n",
    "if not os.path.exists(folder_path):\n",
    "    os.makedirs(folder_path)\n",
    "\n",
    "# Save the datasets into CSV files in the specified folder\n",
    "df_tr.to_csv(os.path.join(folder_path, 'trainset.csv'), index=False)\n",
    "df_val.to_csv(os.path.join(folder_path, 'validationset.csv'), index=False)\n",
    "df_test.to_csv(os.path.join(folder_path, 'testset.csv'), index=False)\n",
    "df_notes.to_csv(os.path.join(folder_path, 'notes.csv'), index=False)"
   ]
  },
  {
   "cell_type": "markdown",
   "id": "1e40ccab",
   "metadata": {},
   "source": [
    "## Display the created CSV files"
   ]
  },
  {
   "cell_type": "code",
   "execution_count": 4,
   "id": "5f67a552",
   "metadata": {},
   "outputs": [
    {
     "data": {
      "text/html": [
       "<div>\n",
       "<style scoped>\n",
       "    .dataframe tbody tr th:only-of-type {\n",
       "        vertical-align: middle;\n",
       "    }\n",
       "\n",
       "    .dataframe tbody tr th {\n",
       "        vertical-align: top;\n",
       "    }\n",
       "\n",
       "    .dataframe thead th {\n",
       "        text-align: right;\n",
       "    }\n",
       "</style>\n",
       "<table border=\"1\" class=\"dataframe\">\n",
       "  <thead>\n",
       "    <tr style=\"text-align: right;\">\n",
       "      <th></th>\n",
       "      <th>x_tr</th>\n",
       "      <th>future</th>\n",
       "    </tr>\n",
       "  </thead>\n",
       "  <tbody>\n",
       "    <tr>\n",
       "      <th>0</th>\n",
       "      <td>[144, 73, 136, 29, 38, 5, 94, 141, 10, 38, 56,...</td>\n",
       "      <td>[136, 29, 148, 64, 132, 132, 10, 164]</td>\n",
       "    </tr>\n",
       "    <tr>\n",
       "      <th>1</th>\n",
       "      <td>[58, 79, 79, 121, 51, 37, 37, 37, 37, 37, 37, ...</td>\n",
       "      <td>[37, 46, 2, 37, 37, 37, 126, 37]</td>\n",
       "    </tr>\n",
       "    <tr>\n",
       "      <th>2</th>\n",
       "      <td>[93, 52, 155, 127, 129, 181, 129, 28, 131, 92,...</td>\n",
       "      <td>[71, 49, 118, 132, 103, 29, 159, 60]</td>\n",
       "    </tr>\n",
       "    <tr>\n",
       "      <th>3</th>\n",
       "      <td>[121, 24, 46, 25, 76, 6, 56, 69, 69, 147, 69, ...</td>\n",
       "      <td>[62, 10, 60, 19, 69, 21, 114, 122]</td>\n",
       "    </tr>\n",
       "    <tr>\n",
       "      <th>4</th>\n",
       "      <td>[97, 176, 180, 45, 86, 135, 176, 2, 180, 135, ...</td>\n",
       "      <td>[176, 176, 43, 176, 43, 176, 43, 135]</td>\n",
       "    </tr>\n",
       "    <tr>\n",
       "      <th>...</th>\n",
       "      <td>...</td>\n",
       "      <td>...</td>\n",
       "    </tr>\n",
       "    <tr>\n",
       "      <th>54868</th>\n",
       "      <td>[37, 143, 98, 53, 25, 143, 25, 143, 98, 148, 2...</td>\n",
       "      <td>[42, 144, 50, 47, 144, 155, 47, 144]</td>\n",
       "    </tr>\n",
       "    <tr>\n",
       "      <th>54869</th>\n",
       "      <td>[2, 76, 171, 98, 14, 110, 117, 9, 110, 67, 67,...</td>\n",
       "      <td>[76, 171, 171, 76, 171, 126, 171, 56]</td>\n",
       "    </tr>\n",
       "    <tr>\n",
       "      <th>54870</th>\n",
       "      <td>[42, 126, 169, 126, 42, 56, 176, 37, 42, 126, ...</td>\n",
       "      <td>[126, 93, 11, 162, 18, 11, 145, 171]</td>\n",
       "    </tr>\n",
       "    <tr>\n",
       "      <th>54871</th>\n",
       "      <td>[21, 69, 92, 21, 69, 37, 142, 69, 17, 142, 92,...</td>\n",
       "      <td>[89, 21, 179, 28, 80, 179, 52, 80]</td>\n",
       "    </tr>\n",
       "    <tr>\n",
       "      <th>54872</th>\n",
       "      <td>[62, 62, 62, 62, 62, 62, 62, 62, 62, 62, 139, ...</td>\n",
       "      <td>[150, 171, 150, 125, 150, 22, 150, 16]</td>\n",
       "    </tr>\n",
       "  </tbody>\n",
       "</table>\n",
       "<p>54873 rows × 2 columns</p>\n",
       "</div>"
      ],
      "text/plain": [
       "                                                    x_tr  \\\n",
       "0      [144, 73, 136, 29, 38, 5, 94, 141, 10, 38, 56,...   \n",
       "1      [58, 79, 79, 121, 51, 37, 37, 37, 37, 37, 37, ...   \n",
       "2      [93, 52, 155, 127, 129, 181, 129, 28, 131, 92,...   \n",
       "3      [121, 24, 46, 25, 76, 6, 56, 69, 69, 147, 69, ...   \n",
       "4      [97, 176, 180, 45, 86, 135, 176, 2, 180, 135, ...   \n",
       "...                                                  ...   \n",
       "54868  [37, 143, 98, 53, 25, 143, 25, 143, 98, 148, 2...   \n",
       "54869  [2, 76, 171, 98, 14, 110, 117, 9, 110, 67, 67,...   \n",
       "54870  [42, 126, 169, 126, 42, 56, 176, 37, 42, 126, ...   \n",
       "54871  [21, 69, 92, 21, 69, 37, 142, 69, 17, 142, 92,...   \n",
       "54872  [62, 62, 62, 62, 62, 62, 62, 62, 62, 62, 139, ...   \n",
       "\n",
       "                                       future  \n",
       "0       [136, 29, 148, 64, 132, 132, 10, 164]  \n",
       "1            [37, 46, 2, 37, 37, 37, 126, 37]  \n",
       "2        [71, 49, 118, 132, 103, 29, 159, 60]  \n",
       "3          [62, 10, 60, 19, 69, 21, 114, 122]  \n",
       "4       [176, 176, 43, 176, 43, 176, 43, 135]  \n",
       "...                                       ...  \n",
       "54868    [42, 144, 50, 47, 144, 155, 47, 144]  \n",
       "54869   [76, 171, 171, 76, 171, 126, 171, 56]  \n",
       "54870    [126, 93, 11, 162, 18, 11, 145, 171]  \n",
       "54871      [89, 21, 179, 28, 80, 179, 52, 80]  \n",
       "54872  [150, 171, 150, 125, 150, 22, 150, 16]  \n",
       "\n",
       "[54873 rows x 2 columns]"
      ]
     },
     "execution_count": 4,
     "metadata": {},
     "output_type": "execute_result"
    }
   ],
   "source": [
    "df_tr"
   ]
  },
  {
   "cell_type": "code",
   "execution_count": 5,
   "id": "b73d9452",
   "metadata": {},
   "outputs": [
    {
     "data": {
      "text/html": [
       "<div>\n",
       "<style scoped>\n",
       "    .dataframe tbody tr th:only-of-type {\n",
       "        vertical-align: middle;\n",
       "    }\n",
       "\n",
       "    .dataframe tbody tr th {\n",
       "        vertical-align: top;\n",
       "    }\n",
       "\n",
       "    .dataframe thead th {\n",
       "        text-align: right;\n",
       "    }\n",
       "</style>\n",
       "<table border=\"1\" class=\"dataframe\">\n",
       "  <thead>\n",
       "    <tr style=\"text-align: right;\">\n",
       "      <th></th>\n",
       "      <th>x_val</th>\n",
       "      <th>future</th>\n",
       "    </tr>\n",
       "  </thead>\n",
       "  <tbody>\n",
       "    <tr>\n",
       "      <th>0</th>\n",
       "      <td>[57, 95, 9, 95, 43, 180, 95, 43, 180, 137, 9, ...</td>\n",
       "      <td>[117, 56, 76, 160, 22, 99, 171, 126]</td>\n",
       "    </tr>\n",
       "    <tr>\n",
       "      <th>1</th>\n",
       "      <td>[92, 4, 42, 70, 28, 50, 11, 70, 50, 28, 145, 4...</td>\n",
       "      <td>[42, 145, 92, 145, 42, 46, 145, 56]</td>\n",
       "    </tr>\n",
       "    <tr>\n",
       "      <th>2</th>\n",
       "      <td>[97, 92, 99, 17, 92, 99, 17, 89, 92, 37, 99, 1...</td>\n",
       "      <td>[48, 99, 105, 17, 152, 92, 48, 99]</td>\n",
       "    </tr>\n",
       "    <tr>\n",
       "      <th>3</th>\n",
       "      <td>[46, 38, 56, 172, 144, 46, 88, 38, 36, 142, 38...</td>\n",
       "      <td>[80, 87, 168, 80, 168, 80, 25, 168]</td>\n",
       "    </tr>\n",
       "    <tr>\n",
       "      <th>4</th>\n",
       "      <td>[143, 10, 143, 10, 143, 164, 10, 143, 10, 110,...</td>\n",
       "      <td>[135, 177, 135, 177, 135, 177, 135, 177]</td>\n",
       "    </tr>\n",
       "    <tr>\n",
       "      <th>...</th>\n",
       "      <td>...</td>\n",
       "      <td>...</td>\n",
       "    </tr>\n",
       "    <tr>\n",
       "      <th>15673</th>\n",
       "      <td>[165, 46, 124, 75, 158, 38, 165, 46, 124, 75, ...</td>\n",
       "      <td>[46, 21, 38, 46, 21, 38, 46, 38]</td>\n",
       "    </tr>\n",
       "    <tr>\n",
       "      <th>15674</th>\n",
       "      <td>[171, 171, 68, 68, 68, 68, 68, 68, 68, 68, 68,...</td>\n",
       "      <td>[64, 64, 161, 64, 64, 173, 159, 29]</td>\n",
       "    </tr>\n",
       "    <tr>\n",
       "      <th>15675</th>\n",
       "      <td>[126, 168, 113, 113, 123, 165, 172, 126, 80, 1...</td>\n",
       "      <td>[22, 48, 48, 127, 152, 165, 126, 172]</td>\n",
       "    </tr>\n",
       "    <tr>\n",
       "      <th>15676</th>\n",
       "      <td>[180, 42, 123, 99, 97, 92, 113, 160, 117, 37, ...</td>\n",
       "      <td>[180, 57, 89, 44, 37, 100, 160, 117]</td>\n",
       "    </tr>\n",
       "    <tr>\n",
       "      <th>15677</th>\n",
       "      <td>[128, 165, 151, 140, 151, 33, 151, 33, 113, 13...</td>\n",
       "      <td>[138, 116, 51, 51, 8, 25, 25, 21]</td>\n",
       "    </tr>\n",
       "  </tbody>\n",
       "</table>\n",
       "<p>15678 rows × 2 columns</p>\n",
       "</div>"
      ],
      "text/plain": [
       "                                                   x_val  \\\n",
       "0      [57, 95, 9, 95, 43, 180, 95, 43, 180, 137, 9, ...   \n",
       "1      [92, 4, 42, 70, 28, 50, 11, 70, 50, 28, 145, 4...   \n",
       "2      [97, 92, 99, 17, 92, 99, 17, 89, 92, 37, 99, 1...   \n",
       "3      [46, 38, 56, 172, 144, 46, 88, 38, 36, 142, 38...   \n",
       "4      [143, 10, 143, 10, 143, 164, 10, 143, 10, 110,...   \n",
       "...                                                  ...   \n",
       "15673  [165, 46, 124, 75, 158, 38, 165, 46, 124, 75, ...   \n",
       "15674  [171, 171, 68, 68, 68, 68, 68, 68, 68, 68, 68,...   \n",
       "15675  [126, 168, 113, 113, 123, 165, 172, 126, 80, 1...   \n",
       "15676  [180, 42, 123, 99, 97, 92, 113, 160, 117, 37, ...   \n",
       "15677  [128, 165, 151, 140, 151, 33, 151, 33, 113, 13...   \n",
       "\n",
       "                                         future  \n",
       "0          [117, 56, 76, 160, 22, 99, 171, 126]  \n",
       "1           [42, 145, 92, 145, 42, 46, 145, 56]  \n",
       "2            [48, 99, 105, 17, 152, 92, 48, 99]  \n",
       "3           [80, 87, 168, 80, 168, 80, 25, 168]  \n",
       "4      [135, 177, 135, 177, 135, 177, 135, 177]  \n",
       "...                                         ...  \n",
       "15673          [46, 21, 38, 46, 21, 38, 46, 38]  \n",
       "15674       [64, 64, 161, 64, 64, 173, 159, 29]  \n",
       "15675     [22, 48, 48, 127, 152, 165, 126, 172]  \n",
       "15676      [180, 57, 89, 44, 37, 100, 160, 117]  \n",
       "15677         [138, 116, 51, 51, 8, 25, 25, 21]  \n",
       "\n",
       "[15678 rows x 2 columns]"
      ]
     },
     "execution_count": 5,
     "metadata": {},
     "output_type": "execute_result"
    }
   ],
   "source": [
    "df_val"
   ]
  },
  {
   "cell_type": "code",
   "execution_count": 6,
   "id": "19613474",
   "metadata": {},
   "outputs": [
    {
     "data": {
      "text/html": [
       "<div>\n",
       "<style scoped>\n",
       "    .dataframe tbody tr th:only-of-type {\n",
       "        vertical-align: middle;\n",
       "    }\n",
       "\n",
       "    .dataframe tbody tr th {\n",
       "        vertical-align: top;\n",
       "    }\n",
       "\n",
       "    .dataframe thead th {\n",
       "        text-align: right;\n",
       "    }\n",
       "</style>\n",
       "<table border=\"1\" class=\"dataframe\">\n",
       "  <thead>\n",
       "    <tr style=\"text-align: right;\">\n",
       "      <th></th>\n",
       "      <th>x_test</th>\n",
       "      <th>future</th>\n",
       "    </tr>\n",
       "  </thead>\n",
       "  <tbody>\n",
       "    <tr>\n",
       "      <th>0</th>\n",
       "      <td>[126, 38, 145, 145, 15, 145, 15, 46, 50, 162, ...</td>\n",
       "      <td>[162, 68, 171, 162, 145, 15, 56, 136]</td>\n",
       "    </tr>\n",
       "    <tr>\n",
       "      <th>1</th>\n",
       "      <td>[4, 30, 138, 21, 51, 116, 30, 136, 39, 30, 131...</td>\n",
       "      <td>[26, 116, 39, 138, 51, 4, 116, 138]</td>\n",
       "    </tr>\n",
       "    <tr>\n",
       "      <th>2</th>\n",
       "      <td>[149, 51, 103, 115, 115, 103, 159, 115, 115, 1...</td>\n",
       "      <td>[180, 117, 180, 103, 123, 160, 42, 170]</td>\n",
       "    </tr>\n",
       "    <tr>\n",
       "      <th>3</th>\n",
       "      <td>[109, 131, 109, 131, 109, 131, 109, 131, 16, 8...</td>\n",
       "      <td>[89, 87, 15, 44, 89, 89, 89, 89]</td>\n",
       "    </tr>\n",
       "    <tr>\n",
       "      <th>4</th>\n",
       "      <td>[90, 29, 159, 29, 49, 29, 49, 63, 165, 124, 63...</td>\n",
       "      <td>[136, 159, 10, 29, 132, 29, 49, 29]</td>\n",
       "    </tr>\n",
       "    <tr>\n",
       "      <th>...</th>\n",
       "      <td>...</td>\n",
       "      <td>...</td>\n",
       "    </tr>\n",
       "    <tr>\n",
       "      <th>7834</th>\n",
       "      <td>[160, 56, 113, 170, 42, 22, 123, 170, 42, 22, ...</td>\n",
       "      <td>[171, 126, 99, 169, 97, 126, 99, 170]</td>\n",
       "    </tr>\n",
       "    <tr>\n",
       "      <th>7835</th>\n",
       "      <td>[37, 15, 97, 90, 51, 51, 116, 120, 167, 58, 16...</td>\n",
       "      <td>[24, 71, 37, 99, 145, 169, 76, 38]</td>\n",
       "    </tr>\n",
       "    <tr>\n",
       "      <th>7836</th>\n",
       "      <td>[162, 47, 11, 162, 160, 11, 76, 97, 99, 17, 99...</td>\n",
       "      <td>[97, 50, 92, 58, 50, 8, 97, 99]</td>\n",
       "    </tr>\n",
       "    <tr>\n",
       "      <th>7837</th>\n",
       "      <td>[25, 97, 39, 170, 113, 47, 89, 86, 180, 37, 87...</td>\n",
       "      <td>[25, 44, 97, 89, 16, 47, 44, 89]</td>\n",
       "    </tr>\n",
       "    <tr>\n",
       "      <th>7838</th>\n",
       "      <td>[22, 172, 128, 169, 170, 126, 50, 99, 92, 89, ...</td>\n",
       "      <td>[105, 128, 159, 51, 128, 33, 135, 115]</td>\n",
       "    </tr>\n",
       "  </tbody>\n",
       "</table>\n",
       "<p>7839 rows × 2 columns</p>\n",
       "</div>"
      ],
      "text/plain": [
       "                                                 x_test  \\\n",
       "0     [126, 38, 145, 145, 15, 145, 15, 46, 50, 162, ...   \n",
       "1     [4, 30, 138, 21, 51, 116, 30, 136, 39, 30, 131...   \n",
       "2     [149, 51, 103, 115, 115, 103, 159, 115, 115, 1...   \n",
       "3     [109, 131, 109, 131, 109, 131, 109, 131, 16, 8...   \n",
       "4     [90, 29, 159, 29, 49, 29, 49, 63, 165, 124, 63...   \n",
       "...                                                 ...   \n",
       "7834  [160, 56, 113, 170, 42, 22, 123, 170, 42, 22, ...   \n",
       "7835  [37, 15, 97, 90, 51, 51, 116, 120, 167, 58, 16...   \n",
       "7836  [162, 47, 11, 162, 160, 11, 76, 97, 99, 17, 99...   \n",
       "7837  [25, 97, 39, 170, 113, 47, 89, 86, 180, 37, 87...   \n",
       "7838  [22, 172, 128, 169, 170, 126, 50, 99, 92, 89, ...   \n",
       "\n",
       "                                       future  \n",
       "0       [162, 68, 171, 162, 145, 15, 56, 136]  \n",
       "1         [26, 116, 39, 138, 51, 4, 116, 138]  \n",
       "2     [180, 117, 180, 103, 123, 160, 42, 170]  \n",
       "3            [89, 87, 15, 44, 89, 89, 89, 89]  \n",
       "4         [136, 159, 10, 29, 132, 29, 49, 29]  \n",
       "...                                       ...  \n",
       "7834    [171, 126, 99, 169, 97, 126, 99, 170]  \n",
       "7835       [24, 71, 37, 99, 145, 169, 76, 38]  \n",
       "7836          [97, 50, 92, 58, 50, 8, 97, 99]  \n",
       "7837         [25, 44, 97, 89, 16, 47, 44, 89]  \n",
       "7838   [105, 128, 159, 51, 128, 33, 135, 115]  \n",
       "\n",
       "[7839 rows x 2 columns]"
      ]
     },
     "execution_count": 6,
     "metadata": {},
     "output_type": "execute_result"
    }
   ],
   "source": [
    "df_test"
   ]
  },
  {
   "cell_type": "code",
   "execution_count": 7,
   "id": "f851ba52",
   "metadata": {},
   "outputs": [
    {
     "data": {
      "text/html": [
       "<div>\n",
       "<style scoped>\n",
       "    .dataframe tbody tr th:only-of-type {\n",
       "        vertical-align: middle;\n",
       "    }\n",
       "\n",
       "    .dataframe tbody tr th {\n",
       "        vertical-align: top;\n",
       "    }\n",
       "\n",
       "    .dataframe thead th {\n",
       "        text-align: right;\n",
       "    }\n",
       "</style>\n",
       "<table border=\"1\" class=\"dataframe\">\n",
       "  <thead>\n",
       "    <tr style=\"text-align: right;\">\n",
       "      <th></th>\n",
       "      <th>0</th>\n",
       "    </tr>\n",
       "  </thead>\n",
       "  <tbody>\n",
       "    <tr>\n",
       "      <th>0</th>\n",
       "      <td>0.2.6</td>\n",
       "    </tr>\n",
       "    <tr>\n",
       "      <th>1</th>\n",
       "      <td>9.11</td>\n",
       "    </tr>\n",
       "    <tr>\n",
       "      <th>2</th>\n",
       "      <td>E-5</td>\n",
       "    </tr>\n",
       "    <tr>\n",
       "      <th>3</th>\n",
       "      <td>0.6</td>\n",
       "    </tr>\n",
       "    <tr>\n",
       "      <th>4</th>\n",
       "      <td>6.10.1</td>\n",
       "    </tr>\n",
       "    <tr>\n",
       "      <th>...</th>\n",
       "      <td>...</td>\n",
       "    </tr>\n",
       "    <tr>\n",
       "      <th>177</th>\n",
       "      <td>8.0.3</td>\n",
       "    </tr>\n",
       "    <tr>\n",
       "      <th>178</th>\n",
       "      <td>7.10.1</td>\n",
       "    </tr>\n",
       "    <tr>\n",
       "      <th>179</th>\n",
       "      <td>3.9</td>\n",
       "    </tr>\n",
       "    <tr>\n",
       "      <th>180</th>\n",
       "      <td>E-3</td>\n",
       "    </tr>\n",
       "    <tr>\n",
       "      <th>181</th>\n",
       "      <td>B1</td>\n",
       "    </tr>\n",
       "  </tbody>\n",
       "</table>\n",
       "<p>182 rows × 1 columns</p>\n",
       "</div>"
      ],
      "text/plain": [
       "          0\n",
       "0     0.2.6\n",
       "1      9.11\n",
       "2       E-5\n",
       "3       0.6\n",
       "4    6.10.1\n",
       "..      ...\n",
       "177   8.0.3\n",
       "178  7.10.1\n",
       "179     3.9\n",
       "180     E-3\n",
       "181      B1\n",
       "\n",
       "[182 rows x 1 columns]"
      ]
     },
     "execution_count": 7,
     "metadata": {},
     "output_type": "execute_result"
    }
   ],
   "source": [
    "df_notes"
   ]
  }
 ],
 "metadata": {
  "kernelspec": {
   "display_name": "Python 3 (ipykernel)",
   "language": "python",
   "name": "python3"
  },
  "language_info": {
   "codemirror_mode": {
    "name": "ipython",
    "version": 3
   },
   "file_extension": ".py",
   "mimetype": "text/x-python",
   "name": "python",
   "nbconvert_exporter": "python",
   "pygments_lexer": "ipython3",
   "version": "3.11.4"
  }
 },
 "nbformat": 4,
 "nbformat_minor": 5
}
