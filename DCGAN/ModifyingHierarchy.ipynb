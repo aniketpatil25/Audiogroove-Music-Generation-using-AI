{
 "cells": [
  {
   "cell_type": "markdown",
   "id": "e44620b4",
   "metadata": {},
   "source": [
    "## Initialize a function that parses through a particular folder and extracts all the MIDI files into another folder"
   ]
  },
  {
   "cell_type": "code",
   "execution_count": 3,
   "id": "62f212f9",
   "metadata": {},
   "outputs": [],
   "source": [
    "import os\n",
    "import shutil\n",
    "\n",
    "def flatten_folders(source_folder, destination_folder):\n",
    "    # Create destination folder if it doesn't exist\n",
    "    if not os.path.exists(destination_folder):\n",
    "        os.makedirs(destination_folder)\n",
    "\n",
    "    # Walk through the source folder\n",
    "    for root, dirs, files in os.walk(source_folder):\n",
    "        for file in files:\n",
    "            # Check if the file is a MIDI file (assuming it has a '.midi' or '.mid' extension)\n",
    "            if file.lower().endswith(('.midi', '.mid')):\n",
    "                source_path = os.path.join(root, file)\n",
    "                destination_path = os.path.join(destination_folder, file)\n",
    "\n",
    "                # Copy the file to the destination folder\n",
    "                shutil.copy2(source_path, destination_path)"
   ]
  },
  {
   "cell_type": "code",
   "execution_count": 4,
   "id": "3fb066d0",
   "metadata": {},
   "outputs": [
    {
     "name": "stdout",
     "output_type": "stream",
     "text": [
      "Files extracted successfully!\n"
     ]
    }
   ],
   "source": [
    "if __name__ == \"__main__\":\n",
    "    # Replace 'source_folder_path' and 'destination_folder_path' with your actual folder paths\n",
    "    source_folder_path = \"/home/admin1/Desktop/GAN/e-gmd-v1.0.0\"\n",
    "    destination_folder_path = \"/home/admin1/Desktop/GAN/expanded drummer\"\n",
    "\n",
    "    flatten_folders(source_folder_path, destination_folder_path)\n",
    "\n",
    "    print(\"Files extracted successfully!\")"
   ]
  }
 ],
 "metadata": {
  "kernelspec": {
   "display_name": "Python 3 (ipykernel)",
   "language": "python",
   "name": "python3"
  },
  "language_info": {
   "codemirror_mode": {
    "name": "ipython",
    "version": 3
   },
   "file_extension": ".py",
   "mimetype": "text/x-python",
   "name": "python",
   "nbconvert_exporter": "python",
   "pygments_lexer": "ipython3",
   "version": "3.11.4"
  }
 },
 "nbformat": 4,
 "nbformat_minor": 5
}
