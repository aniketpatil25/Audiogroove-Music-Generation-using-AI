{
 "cells": [
  {
   "cell_type": "markdown",
   "id": "cf6b4bf2",
   "metadata": {},
   "source": [
    "## Initialize a function that splits the MIDI dataset into multiple distinct subsets for parallel processing"
   ]
  },
  {
   "cell_type": "code",
   "execution_count": 1,
   "id": "9aeebb0a",
   "metadata": {},
   "outputs": [
    {
     "name": "stdout",
     "output_type": "stream",
     "text": [
      "Files distributed into folders successfully.\n"
     ]
    }
   ],
   "source": [
    "import os\n",
    "import shutil\n",
    "import random\n",
    "\n",
    "# Define source and destination directories\n",
    "source_dir = \"/home/admin1/Desktop/Mohd/lakhall\"\n",
    "dest_dir = \"/home/admin1/Desktop/Mohd/DCGAN/splittedlakhall1000\"\n",
    "\n",
    "# Ensure destination directory exists\n",
    "if not os.path.exists(dest_dir):\n",
    "    os.makedirs(dest_dir)\n",
    "\n",
    "# List all files in the source directory\n",
    "file_list = os.listdir(source_dir)\n",
    "\n",
    "# Shuffle the file list to ensure randomness\n",
    "random.shuffle(file_list)\n",
    "\n",
    "# Define the number of files per folder\n",
    "files_per_folder = 1000\n",
    "\n",
    "# Create folders and distribute files\n",
    "for i in range(16):\n",
    "    folder_path = os.path.join(dest_dir, f\"folder_{i+1}\")\n",
    "    os.makedirs(folder_path, exist_ok=True)\n",
    "    for j in range(files_per_folder):\n",
    "        file_name = file_list.pop()\n",
    "        shutil.move(os.path.join(source_dir, file_name), folder_path)\n",
    "        if not file_list:\n",
    "            break\n",
    "\n",
    "print(\"Files distributed into folders successfully.\")\n"
   ]
  }
 ],
 "metadata": {
  "kernelspec": {
   "display_name": "Python 3 (ipykernel)",
   "language": "python",
   "name": "python3"
  },
  "language_info": {
   "codemirror_mode": {
    "name": "ipython",
    "version": 3
   },
   "file_extension": ".py",
   "mimetype": "text/x-python",
   "name": "python",
   "nbconvert_exporter": "python",
   "pygments_lexer": "ipython3",
   "version": "3.11.4"
  }
 },
 "nbformat": 4,
 "nbformat_minor": 5
}
