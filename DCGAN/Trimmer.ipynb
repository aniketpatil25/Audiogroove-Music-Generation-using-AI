{
 "cells": [
  {
   "cell_type": "markdown",
   "id": "14e57322",
   "metadata": {},
   "source": [
    "## Initialize a function that trimms the MIDI file into smaller parts based on the user input"
   ]
  },
  {
   "cell_type": "code",
   "execution_count": 1,
   "id": "81e10fc2",
   "metadata": {},
   "outputs": [],
   "source": [
    "import mido\n",
    "\n",
    "def trim_midi(input_file, output_file, start_time, end_time):\n",
    "    try:\n",
    "        mid = mido.MidiFile(input_file)\n",
    "        \n",
    "        # Convert start and end times to ticks\n",
    "        ticks_per_beat = mid.ticks_per_beat\n",
    "        start_tick = int(start_time * ticks_per_beat)\n",
    "        end_tick = int(end_time * ticks_per_beat)\n",
    "        \n",
    "        new_mid = mido.MidiFile()\n",
    "        \n",
    "        for track in mid.tracks:\n",
    "            new_track = mido.MidiTrack()\n",
    "            new_mid.tracks.append(new_track)\n",
    "            current_time = 0\n",
    "            \n",
    "            for msg in track:\n",
    "                current_time += msg.time\n",
    "                \n",
    "                # Break if the current time exceeds the end time\n",
    "                if current_time > end_tick:\n",
    "                    break\n",
    "                \n",
    "                # Only append messages that occur after the start time\n",
    "                if current_time >= start_tick:\n",
    "                    new_msg = msg.copy(time=msg.time)\n",
    "                    new_track.append(new_msg)\n",
    "                    \n",
    "                    # Adjust the time of the last message if it exceeds the end time\n",
    "                    if current_time > end_tick:\n",
    "                        new_msg.time -= current_time - end_tick\n",
    "                        \n",
    "        new_mid.save(output_file)\n",
    "        print(\"Trimmed MIDI file saved successfully!\")\n",
    "        \n",
    "    except Exception as e:\n",
    "        print(\"An error occurred:\", e)"
   ]
  },
  {
   "cell_type": "code",
   "execution_count": 2,
   "id": "85959c15",
   "metadata": {},
   "outputs": [
    {
     "name": "stdout",
     "output_type": "stream",
     "text": [
      "Enter start time in seconds: 1\n",
      "Enter end time in seconds: 301\n",
      "Trimmed MIDI file saved successfully!\n"
     ]
    }
   ],
   "source": [
    "# Example usage\n",
    "input_file = \"/home/admin1/Desktop/Mohd/output/new_generated_song_1.mid\"\n",
    "output_file = \"/home/admin1/Desktop/Mohd/output/trimmed_new_generated_song_1.mid\"\n",
    "start_time = float(input(\"Enter start time in seconds: \"))\n",
    "end_time = float(input(\"Enter end time in seconds: \"))\n",
    "\n",
    "trim_midi(input_file, output_file, start_time, end_time)"
   ]
  }
 ],
 "metadata": {
  "kernelspec": {
   "display_name": "Python 3 (ipykernel)",
   "language": "python",
   "name": "python3"
  },
  "language_info": {
   "codemirror_mode": {
    "name": "ipython",
    "version": 3
   },
   "file_extension": ".py",
   "mimetype": "text/x-python",
   "name": "python",
   "nbconvert_exporter": "python",
   "pygments_lexer": "ipython3",
   "version": "3.11.4"
  }
 },
 "nbformat": 4,
 "nbformat_minor": 5
}
